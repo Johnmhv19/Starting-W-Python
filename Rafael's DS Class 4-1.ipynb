{
 "cells": [
  {
   "cell_type": "markdown",
   "metadata": {},
   "source": [
    "# Data Science Session 4"
   ]
  },
  {
   "cell_type": "markdown",
   "metadata": {},
   "source": [
    "John Michael Hernandez Valerio is inviting you to a scheduled Zoom meeting.\n",
    "\n",
    "Topic: Rafael's Data Science Class 4\n",
    "Time: Mar 29, 2021 08:00 AM Beijing, Shanghai\n",
    "\n",
    "Join Zoom Meeting\n",
    "https://us04web.zoom.us/j/75939938727?pwd=dVJhTXNydTV2TGxJUVZ1QVZaUnByUT09\n",
    "\n",
    "Meeting ID: 759 3993 8727\n",
    "Passcode: KNa2R4"
   ]
  },
  {
   "cell_type": "markdown",
   "metadata": {},
   "source": [
    "### Today's Class\n",
    "- Concate strings: using + vs , (comma separate string) \n",
    "- Story telling with Strings and `input()`\n",
    "\n",
    "### Next Class\n",
    "- Intro to Dataframe\n",
    "- Intro to Pandas Library\n",
    "- Search for an string in a string.\n",
    "- What is a CSV file and how to read it.\n",
    "- What is a xsl or xsls file and how to read it.\n",
    "\n",
    "\n",
    "\n",
    "**Important:** Its neccesary to mention that someone may think there are some information missing, in the class video and in this document, and the reason for that is that the course have been structure for the specific purpose of the student's need ([Rafael Mesa](https://www.linkedin.com/in/rafael-mesa-rodriguez-2a1298124/ \"Rafael's LinkedIn profile\")). "
   ]
  },
  {
   "cell_type": "markdown",
   "metadata": {},
   "source": [
    "<font size=\"4\" color=\"blue\"  face=\"verdana\"> <B>Concate strings: using + vs , (comma separate string) </B></font>  \n",
    "\n",
    "Python provides several methods of formatting strings in the **`print()`** function beyond **string addition**   \n",
    "  \n",
    "**`print()`** provides using **commas** to combine stings for output  \n",
    "by comma separating strings  **`print()`** will output each separated by a space by default"
   ]
  },
  {
   "cell_type": "markdown",
   "metadata": {},
   "source": [
    "<font size=\"4\" color=\"#B24C00\"  face=\"verdana\"> <B>Example</B></font>  \n",
    "**print 3 strings on the same line using commas inside the print() function**"
   ]
  },
  {
   "cell_type": "code",
   "execution_count": 1,
   "metadata": {},
   "outputs": [
    {
     "name": "stdout",
     "output_type": "stream",
     "text": [
      "Rafael\n",
      "John\n",
      "Daniel\n",
      "RafaelJohnDaniel\n",
      "Rafael John Daniel\n",
      "Rafael John Daniel\n"
     ]
    }
   ],
   "source": [
    "# [ ] print 3 strings on the same line using commas inside the print() function \n",
    "\n",
    "print(\"Rafael\")\n",
    "print(\"John\")\n",
    "print(\"Daniel\")\n",
    "\n",
    "print(\"Rafael\" + \"John\" + \"Daniel\")\n",
    "print(\"Rafael \" + \"John \" + \"Daniel\")\n",
    "print(\"Rafael\" +\" \"+ \"John\" +\" \"+ \"Daniel\")"
   ]
  },
  {
   "cell_type": "code",
   "execution_count": 2,
   "metadata": {},
   "outputs": [
    {
     "name": "stdout",
     "output_type": "stream",
     "text": [
      "Rafael John Daniel\n",
      "Rafael John Daniel\n",
      "Rafael John Daniel\n"
     ]
    }
   ],
   "source": [
    "print(\"Rafael \" + \"John \" + \"Daniel\")\n",
    "print(\"Rafael\" +\" \"+ \"John\" +\" \"+ \"Daniel\")\n",
    "\n",
    "print(\"Rafael\" , \"John\" , \"Daniel\")"
   ]
  },
  {
   "cell_type": "markdown",
   "metadata": {},
   "source": [
    "<font size=\"4\" color=\"#B24C00\"  face=\"verdana\"> <B>Example: Concatenating multiple elements using comma</B></font>  "
   ]
  },
  {
   "cell_type": "code",
   "execution_count": null,
   "metadata": {},
   "outputs": [],
   "source": [
    "# review and run code\n",
    "time_PU= input(\"What time do you want to go to the party\")\n",
    "location= \"Puente de la 17\"\n",
    "print(\"I will pick you up @\",time_PU,\"for the party.\", \"wait for me at\",location)"
   ]
  },
  {
   "cell_type": "markdown",
   "metadata": {},
   "source": [
    "<font size=\"4\" color=\"#B24C00\"  face=\"verdana\"> <B>Task 1</B></font>  \n",
    "\n",
    "Create a new markdown cell below and explain what is the difference between using the addition sign (+) vs using comma (,) to concatenate elements in a print function"
   ]
  },
  {
   "cell_type": "markdown",
   "metadata": {},
   "source": [
    "<font size=\"4\" color=\"#B24C00\"  face=\"verdana\"> <B>Task 2</B></font>  \n",
    "\n",
    "Create a new code cell below and provide an example of the explaination given in the previous task"
   ]
  },
  {
   "cell_type": "markdown",
   "metadata": {},
   "source": [
    "<font size=\"4\" color=\"#B24C00\"  face=\"verdana\"> <B>Task 3</B></font>   \n",
    "## Program: How many for the training?\n",
    "Create a program that prints out a reservation for a training class.  Gather the name of the party, the number attending and the time.\n",
    ">**example** of what input/output might look like:\n",
    "```\n",
    "enter name for contact person for training group: Hiroto Yamaguchi  \n",
    "enter the total number attending the course: 7  \n",
    "enter the training time selected: 3:25 PM  \n",
    "------------------------------  \n",
    "Reminder: training is schedule at 3:25 PM for the Hiroto Yamaguchi group of 7 attendees  \n",
    "Please arrive 10 minutes early for the first class  \n",
    "```  \n",
    "  \n",
    "Design and Create your own reminder style  \n",
    "- **[ ]** get user input for variables:\n",
    "  - **owner**: name of person the reservation is for  \n",
    "  - **num_people**: how many are attending  \n",
    "  - **training_time**: class time\n",
    "- **[ ]** create an integer variable **min_early**: number of minutes early the party should arrive\n",
    "- **[ ]** using comma separation, print reminder text\n",
    "  - use all of the variables in the text\n",
    "  - use additional strings as needed\n",
    "  - use multiple print statements to format message on multiple lines (optional)"
   ]
  },
  {
   "cell_type": "code",
   "execution_count": null,
   "metadata": {},
   "outputs": [],
   "source": [
    "# [ ] get input for variables: owner, num_people, training_time  - use descriptive prompt text\n",
    "owner = \n",
    "num_people = \n",
    "training_time = \n",
    "# [ ] create a integer variable min_early and \"hard code\" the integer value (e.g. - 5, 10 or 15)\n",
    "min_early = \n",
    "# [ ] print reminder text using all variables & add additional strings -  use comma separated print formatting\n"
   ]
  },
  {
   "cell_type": "markdown",
   "metadata": {},
   "source": [
    "<font size=\"4\" color=\"#B24C00\"  face=\"verdana\"> <B>Example: Telling a story using strings</B></font>  \n",
    "\n",
    "Run the cell below and answer the questions to see the result."
   ]
  },
  {
   "cell_type": "code",
   "execution_count": null,
   "metadata": {},
   "outputs": [],
   "source": [
    "#initialize the variables\n",
    "girldescription = \" \" \n",
    "boydescription = \" \" \n",
    "walkdescription = \" \" \n",
    "girlname = \" \"\n",
    "boyname = \" \"\n",
    "animal = \" \"\n",
    "gift = \" \" \n",
    "answer = \" \"\n",
    "\n",
    "#Ask the user to specify values for the variables\n",
    "print(\":) Welcome to the Awesome Stories game!!!!\")\n",
    "print(\"Please answer the following questions and we will create a story for you\\n\")\n",
    "girlname = input(\"Enter a girl's name: \")\n",
    "boyname = input(\"Enter a boy's name: \" )\n",
    "animal = input(\"Name a type of animal: \" )\n",
    "gift = input(\"Name something you find in the bathroom: \")\n",
    "girldescription = input(\"Enter a description of a flower: \")\n",
    "boydescription = input(\"Enter a description of a car: \")\n",
    "walkdescription = input(\"Enter a description of how you might dance: \" )\n",
    "answer = input(\"What would you say to someone who gave you a cow: \")\n",
    "\n",
    "#Display the story\n",
    "#Don't forget to format the strings when they are displayed\n",
    "print()\n",
    "print (\"Once upon a time,\")\n",
    "print(\"there was a girl named \" + girlname.capitalize() + \".\")\n",
    "print(\"One day, \" + girlname.capitalize() + \" was walking \" + walkdescription.lower() + \" down the street.\")\n",
    "print(\"Then she met a \" + boydescription.lower() + \" boy named \" + boyname.capitalize() + \".\")\n",
    "print(\"He said, 'You are really \" + girldescription.lower() + \"!'\")\n",
    "print(\"She said '\" + answer.capitalize() + \", \" + boyname.capitalize() + \".'\")\n",
    "print(\"Then they both rode away on a \" + animal.lower() + \" and lived happily ever after.\")\n",
    "#cl\n"
   ]
  },
  {
   "cell_type": "code",
   "execution_count": null,
   "metadata": {},
   "outputs": [],
   "source": [
    "#initialize the variables\n",
    "girldescription = \" \" \n",
    "boydescription = \" \" \n",
    "walkdescription = \" \" \n",
    "girlname = \" \"\n",
    "girlprofession= \" \"\n",
    "boyname = \" \"\n",
    "animal = \" \"\n",
    "answer = \" \"\n",
    "action_on_thestreet = \"\"\n",
    "\n",
    "#Ask the user to specify values for the variables\n",
    "print(\":) Welcome to the Awesome Stories game!!!!\")\n",
    "print(\"Please answer the following questions and we will create a story for you\\n\")\n",
    "girlname = input(\"Enter a girl's name: \")\n",
    "girlprofession= input(\"Enter the profession that the girl want to study\")\n",
    "boyname = input(\"Enter a boy's name: \" )\n",
    "animal = input(\"Name a type of animal: \" )\n",
    "boyprofession = input(\"Enter the profession: \")\n",
    "newyorkstreet = input(\"Enter a famous street of new york: \" )\n",
    "action_on_thestreet= input(\"the action they where doing on the street\")\n",
    "\n",
    "#Display the story\n",
    "#Don't forget to format the strings when they are displayed\n",
    "print()\n",
    "print (\"In 2012 in the city of New Work,\")\n",
    "print(\"there was a girl named\",girlname.capitalize(),\"that have a dream to be a great\", girlprofession + \".\")\n",
    "print(\"with the vision to save people with cancer disease\")\n",
    "print(\"12 years later in 2025\")\n",
    "#print(girlname.capitalize(), \"was walking\",newyorkstreet(),\"visiting the New York Stock Exchange with her friend that came from cameron\", action_on_thestreet.lower(),\".\")\n",
    "print(\"By coincidence\",boyprofession.lower(),\"that she knew walkout of a building\",\"his name was\",boyname.capitalize(),\"that boy was a cancer pacient stage 4 that she had cure\",\".\")\n",
    "print(\"He said, Do you are\",girlname.capitalize(), girldescription.lower(),'that save my life'\"!\")\n",
    "print(\"She said OMG you are\", boyname, answer.capitalize() + \", \" + boyname.capitalize() + \".'\")\n",
    "print(\"Then they both decided to meet up later at\" + animal.lower() + \"to go have dinner after.\")\n",
    "#cl"
   ]
  },
  {
   "cell_type": "markdown",
   "metadata": {},
   "source": [
    "<font size=\"4\" color=\"#B24C00\"  face=\"verdana\"> <B>Task 4</B></font>   \n",
    "\n",
    "Run the cell below."
   ]
  },
  {
   "cell_type": "code",
   "execution_count": 2,
   "metadata": {},
   "outputs": [
    {
     "name": "stdout",
     "output_type": "stream",
     "text": [
      "Option 1: tU TIENES la Pampara enceDIA en DS. \n",
      "\n",
      "Option 2: tu tienes la pampara encedia en ds. \n",
      "\n",
      "Option 3: TU TIENES LA PAMPARA ENCEDIA EN DS. \n",
      "\n",
      "Option 4: Tu tienes la pampara encedia en ds. \n",
      "\n",
      "Option 5: Tu Tienes La Pampara Encedia En Ds. \n",
      "\n"
     ]
    }
   ],
   "source": [
    "#Run this and see what happens\n",
    "\n",
    "message= \"tU TIENES la Pampara enceDIA en DS.\"\n",
    "\n",
    "print(\"Option 1:\", message,\"\\n\")\n",
    "print(\"Option 2:\", message.lower(),\"\\n\")\n",
    "print(\"Option 3:\", message.upper(),\"\\n\")\n",
    "print(\"Option 4:\", message.capitalize(),\"\\n\")\n",
    "print(\"Option 5:\", message.title(),\"\\n\")\n",
    "\n"
   ]
  },
  {
   "cell_type": "markdown",
   "metadata": {},
   "source": [
    " ### Explain what happened in the cell above."
   ]
  },
  {
   "cell_type": "code",
   "execution_count": 6,
   "metadata": {},
   "outputs": [
    {
     "name": "stdout",
     "output_type": "stream",
     "text": [
      "False\n"
     ]
    }
   ],
   "source": [
    "print(\"cincO\"==\"cinco\")"
   ]
  },
  {
   "cell_type": "code",
   "execution_count": 7,
   "metadata": {},
   "outputs": [
    {
     "ename": "NameError",
     "evalue": "name 'Name' is not defined",
     "output_type": "error",
     "traceback": [
      "\u001b[1;31m---------------------------------------------------------------------------\u001b[0m",
      "\u001b[1;31mNameError\u001b[0m                                 Traceback (most recent call last)",
      "\u001b[1;32m<ipython-input-7-b09c3d5ddf90>\u001b[0m in \u001b[0;36m<module>\u001b[1;34m\u001b[0m\n\u001b[0;32m      1\u001b[0m \u001b[0mname\u001b[0m\u001b[1;33m=\u001b[0m \u001b[1;34m\"Rafel\"\u001b[0m\u001b[1;33m\u001b[0m\u001b[1;33m\u001b[0m\u001b[0m\n\u001b[1;32m----> 2\u001b[1;33m \u001b[0mprint\u001b[0m\u001b[1;33m(\u001b[0m\u001b[0mName\u001b[0m\u001b[1;33m)\u001b[0m\u001b[1;33m\u001b[0m\u001b[1;33m\u001b[0m\u001b[0m\n\u001b[0m",
      "\u001b[1;31mNameError\u001b[0m: name 'Name' is not defined"
     ]
    }
   ],
   "source": []
  },
  {
   "cell_type": "markdown",
   "metadata": {},
   "source": [
    "### Print the variable message and answer: Is the message (the size of its letters) different from the beggining?"
   ]
  }
 ],
 "metadata": {
  "kernelspec": {
   "display_name": "Python 3",
   "language": "python",
   "name": "python3"
  },
  "language_info": {
   "codemirror_mode": {
    "name": "ipython",
    "version": 3
   },
   "file_extension": ".py",
   "mimetype": "text/x-python",
   "name": "python",
   "nbconvert_exporter": "python",
   "pygments_lexer": "ipython3",
   "version": "3.8.5"
  }
 },
 "nbformat": 4,
 "nbformat_minor": 4
}
